{
 "cells": [
  {
   "cell_type": "code",
   "execution_count": 1,
   "metadata": {},
   "outputs": [],
   "source": [
    "import pyproj\n",
    "import math\n",
    "import pandas as pd\n",
    "import geopandas as gpd\n",
    "import numpy as np\n",
    "import os"
   ]
  },
  {
   "cell_type": "code",
   "execution_count": 2,
   "metadata": {},
   "outputs": [],
   "source": [
    "btm = pyproj.CRS('+proj=tmerc +lat_0=0 +lon_0=90 +k=0.9996 +x_0=500000 +y_0=-2000000 +ellps=evrst30 +towgs84=283.729,735.942,261.143,0,0,0,0 +units=m +no_defs')\n",
    "sph = pyproj.CRS(\"EPSG:4326\")"
   ]
  },
  {
   "cell_type": "code",
   "execution_count": 3,
   "metadata": {},
   "outputs": [],
   "source": [
    "def WGS_to_BTM(Latitude, Longitude):\n",
    "    transformer = pyproj.Transformer.from_crs(sph, btm) # Create a transformer object\n",
    "    X, Y = transformer.transform(Latitude, Longitude) # Perform the transformation\n",
    "    return X, Y\n",
    "\n",
    "def BTM_to_WGS(Latitude, Longitude):\n",
    "    transformer = pyproj.Transformer.from_crs(btm, sph) # Create a transformer object\n",
    "    X, Y = transformer.transform(Latitude, Longitude) # Perform the transformation\n",
    "    return X, Y\n",
    "\n",
    "def get_point_BTM(easting, northing, bearing, distance):\n",
    "    theta = math.radians(bearing)\n",
    "    Ep = easting + distance * math.sin(theta)\n",
    "    Np = northing + distance * math.cos(theta)\n",
    "    return Ep, Np"
   ]
  },
  {
   "cell_type": "code",
   "execution_count": 4,
   "metadata": {},
   "outputs": [],
   "source": [
    "gdf = pd.DataFrame()\n",
    "crs = \"EPSG:4326\" # WGS\n",
    "# crs = btm"
   ]
  },
  {
   "cell_type": "code",
   "execution_count": 8,
   "metadata": {},
   "outputs": [],
   "source": [
    "for folder_path, _, file_names in os.walk('Cross Section'):\n",
    "    for i, file_name in enumerate(file_names):\n",
    "        file_path = os.path.join(folder_path, file_name)\n",
    "        absolute_path = os.path.abspath(file_path)\n",
    "        df = pd.read_excel(absolute_path)\n",
    "\n",
    "        latitude = df['LATITUDE'][0]\n",
    "        longitude = df['LONGITUDE'][0]\n",
    "\n",
    "        Rl_m = df['RL']\n",
    "        distances = df['DISTANCE']\n",
    "        station_id = df['STATION_ID']\n",
    "        \n",
    "        easting, northing = WGS_to_BTM(latitude, longitude)\n",
    "        bearing = -df['Bearing'][0]\n",
    "\n",
    "        lats_longs = [get_point_BTM(easting, northing, bearing, distance) for distance in distances]\n",
    "        lats_longs = [BTM_to_WGS(*easting_norting) for easting_norting in lats_longs]\n",
    "        lats_longs = np.array(lats_longs)\n",
    "        points = gpd.points_from_xy(lats_longs[:, 1], lats_longs[:, 0], Rl_m, crs=crs)\n",
    "\n",
    "        temp_df = pd.DataFrame({'geometry': points,\n",
    "                                'RL': Rl_m,\n",
    "                                'STATION_ID': station_id,\n",
    "                                'DISTANCE': distances})\n",
    "        \n",
    "        gdf = pd.concat([gdf, temp_df], ignore_index=True)"
   ]
  },
  {
   "cell_type": "code",
   "execution_count": 9,
   "metadata": {},
   "outputs": [],
   "source": [
    "gdf = gpd.GeoDataFrame(gdf, geometry=\"geometry\", crs=crs)\n",
    "gdf.to_file(\"points_margere.shp\", driver=\"ESRI Shapefile\")"
   ]
  },
  {
   "cell_type": "code",
   "execution_count": null,
   "metadata": {},
   "outputs": [],
   "source": [
    "# import matplotlib.pyplot as plt\n",
    "# df = pd.read_excel('Cross Section/RMP5.xls')\n",
    "# rl = df['RL']\n",
    "# dist = df['DISTANCE']\n",
    "# plt.plot(dist, rl)"
   ]
  },
  {
   "cell_type": "code",
   "execution_count": 6,
   "metadata": {},
   "outputs": [],
   "source": [
    "df = pd.read_excel('Demo_Data.xls')"
   ]
  },
  {
   "cell_type": "code",
   "execution_count": 19,
   "metadata": {},
   "outputs": [],
   "source": [
    "easting = df['Easting']\n",
    "northing = df['Northing']\n",
    "rl = df['RL_mPWD']"
   ]
  },
  {
   "cell_type": "code",
   "execution_count": 23,
   "metadata": {},
   "outputs": [],
   "source": [
    "points = gpd.points_from_xy(northing, easting, rl, crs=sph)"
   ]
  },
  {
   "cell_type": "code",
   "execution_count": 24,
   "metadata": {},
   "outputs": [],
   "source": [
    "temp_df = pd.DataFrame({'geometry': points,\n",
    "                                'RL': rl})"
   ]
  },
  {
   "cell_type": "code",
   "execution_count": 22,
   "metadata": {},
   "outputs": [],
   "source": [
    "gdf = gpd.GeoDataFrame(temp_df, geometry=\"geometry\", crs=sph)\n",
    "gdf.to_file(\"points_bathymetry.shp\", driver=\"ESRI Shapefile\")"
   ]
  },
  {
   "cell_type": "code",
   "execution_count": null,
   "metadata": {},
   "outputs": [],
   "source": []
  }
 ],
 "metadata": {
  "kernelspec": {
   "display_name": "Python 3",
   "language": "python",
   "name": "python3"
  },
  "language_info": {
   "codemirror_mode": {
    "name": "ipython",
    "version": 3
   },
   "file_extension": ".py",
   "mimetype": "text/x-python",
   "name": "python",
   "nbconvert_exporter": "python",
   "pygments_lexer": "ipython3",
   "version": "3.9.0"
  },
  "orig_nbformat": 4
 },
 "nbformat": 4,
 "nbformat_minor": 2
}
